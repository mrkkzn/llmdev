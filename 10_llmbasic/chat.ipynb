{
 "cells": [
  {
   "cell_type": "code",
   "execution_count": 1,
   "id": "28b85935",
   "metadata": {},
   "outputs": [],
   "source": [
    "# 必要なモジュールをインポート\n",
    "import os\n",
    "from dotenv import load_dotenv\n",
    "from openai import OpenAI\n",
    "from pprint import pprint\n",
    "\n",
    "# 環境変数の取得\n",
    "load_dotenv(\"../.env\")\n",
    "\n",
    "# OpenAI APIクライアントを生成\n",
    "client = OpenAI(api_key=os.environ['API_KEY'])\n",
    "\n",
    "# モデル名\n",
    "MODEL_NAME = \"gpt-4o-mini\""
   ]
  },
  {
   "cell_type": "code",
   "execution_count": 2,
   "id": "37834ce1",
   "metadata": {},
   "outputs": [
    {
     "name": "stdout",
     "output_type": "stream",
     "text": [
      "{'_request_id': 'req_41a2814004c943da8ed14f1205319b94',\n",
      " 'choices': [Choice(finish_reason='stop', index=0, logprobs=None, message=ChatCompletionMessage(content='言語モデルを使う上でのポイントはいくつかあります。以下に主なポイントを挙げます。\\n\\n1. **目的の明確化**: 言語モデルを使用する目的を明確にしておくことが重要です。文章生成、翻訳、要約、質問応答など、用途によって適切なモデルや設定が異なります。\\n\\n2. **文脈の提供**: 言語モデルは文脈を理解することでより良い結果を出します。具体的な情報や指示を与えることで、期待する出力を得やすくなります。\\n\\n3. **フィードバックの活用**: 初期の出力をもとにフィードバックを行い、繰り返し調整することで結果が向上します。特に生成モデルでは、出力内容を確認し、必要に応じて再度プロンプトを修正することが大切です。\\n\\n4. **限界の理解**: 言語モデルは完璧ではなく、誤情報やバイアスを含む可能性があります。生成された情報を鵜呑みにせず、必ず検証を行うことが必要です。\\n\\n5. **インタラクティブな利用**: ユーザーとモデルのインタラクションを利用し、必要に応じて質問を追加したり削除したりして、より良い出力を引き出すことができます。\\n\\n6. **データのプライバシー**: 個人情報や機密情報をモデルに入力しないようにしましょう。プライバシーを守るための対策が必要です。\\n\\n7. **定期的なアップデート**: モデルや関連する技術は進化しています。最新の情報を追い、新しい機能やモデルの改良を活用することが重要です。\\n\\nこれらのポイントを考慮しながら、言語モデルを効果的に活用することができます。', refusal=None, role='assistant', audio=None, function_call=None, tool_calls=None, annotations=[]))],\n",
      " 'created': 1758107729,\n",
      " 'id': 'chatcmpl-CGkQDkyrOEZx79MpD1I5Bo1x63Bzk',\n",
      " 'model': 'gpt-4o-mini-2024-07-18',\n",
      " 'object': 'chat.completion',\n",
      " 'service_tier': 'default',\n",
      " 'system_fingerprint': 'fp_560af6e559',\n",
      " 'usage': CompletionUsage(completion_tokens=452, prompt_tokens=18, total_tokens=470, completion_tokens_details=CompletionTokensDetails(accepted_prediction_tokens=0, audio_tokens=0, reasoning_tokens=0, rejected_prediction_tokens=0), prompt_tokens_details=PromptTokensDetails(audio_tokens=0, cached_tokens=0))}\n"
     ]
    }
   ],
   "source": [
    "# メッセージの設定\n",
    "message = \"言語モデルを使う上でのポイントは\"\n",
    "\n",
    "# APIへリクエスト\n",
    "response = client.chat.completions.create(\n",
    "    model=MODEL_NAME,\n",
    "    messages=[\n",
    "        {\"role\": \"user\", \"content\": message},\n",
    "    ]\n",
    ")\n",
    "\n",
    "# レスポンスの表示\n",
    "pprint(vars(response))"
   ]
  },
  {
   "cell_type": "code",
   "execution_count": 3,
   "id": "ac35721b",
   "metadata": {},
   "outputs": [
    {
     "name": "stdout",
     "output_type": "stream",
     "text": [
      "言語モデルを使う上でのポイントはいくつかあります。以下に主なポイントを挙げます。\n",
      "\n",
      "1. **目的の明確化**: 言語モデルを使用する目的を明確にしておくことが重要です。文章生成、翻訳、要約、質問応答など、用途によって適切なモデルや設定が異なります。\n",
      "\n",
      "2. **文脈の提供**: 言語モデルは文脈を理解することでより良い結果を出します。具体的な情報や指示を与えることで、期待する出力を得やすくなります。\n",
      "\n",
      "3. **フィードバックの活用**: 初期の出力をもとにフィードバックを行い、繰り返し調整することで結果が向上します。特に生成モデルでは、出力内容を確認し、必要に応じて再度プロンプトを修正することが大切です。\n",
      "\n",
      "4. **限界の理解**: 言語モデルは完璧ではなく、誤情報やバイアスを含む可能性があります。生成された情報を鵜呑みにせず、必ず検証を行うことが必要です。\n",
      "\n",
      "5. **インタラクティブな利用**: ユーザーとモデルのインタラクションを利用し、必要に応じて質問を追加したり削除したりして、より良い出力を引き出すことができます。\n",
      "\n",
      "6. **データのプライバシー**: 個人情報や機密情報をモデルに入力しないようにしましょう。プライバシーを守るための対策が必要です。\n",
      "\n",
      "7. **定期的なアップデート**: モデルや関連する技術は進化しています。最新の情報を追い、新しい機能やモデルの改良を活用することが重要です。\n",
      "\n",
      "これらのポイントを考慮しながら、言語モデルを効果的に活用することができます。\n"
     ]
    }
   ],
   "source": [
    "# 言語モデルからの回答を表示\n",
    "print(response.choices[0].message.content.strip())"
   ]
  },
  {
   "cell_type": "code",
   "execution_count": 4,
   "id": "c821670b",
   "metadata": {},
   "outputs": [
    {
     "name": "stdout",
     "output_type": "stream",
     "text": [
      "新製品の発売に向けた効果的なマーケティング戦略には、以下のようなステップが考えられます。\n",
      "\n",
      "### 1. マーケットリサーチ\n",
      "- **ターゲット市場の特定**: 顧客のニーズ、嗜好、行動パターンを理解し、ターゲットを明確にします。\n",
      "- **競合分析**: 競合他社の製品、販売方法、マーケティング戦略を調査し、差別化ポイントを見つけます。\n",
      "\n",
      "### 2. USP（ユニーク・セリング・ポイント）の確立\n",
      "- **製品の独自性を強調**: 新製品が持つ他製品にはない特徴や利点を整理し、マーケティングメッセージに反映します。\n",
      "\n",
      "### 3. ブランドストーリーの構築\n",
      "- **感情を引き込むストーリー**: ブランドや製品に関連する感情的なストーリーを作成し、顧客の心に響くようなコンテンツを用意します。\n",
      "\n",
      "### 4. プロモーション計画\n",
      "- **ティーザーキャンペーン**: 新製品の発表前に、興味を引くティーザー広告やSNSキャンペーンで期待感を高めます。\n",
      "- **ローンチイベント**: オンラインまたはオフラインのイベントを開催し、メディアやインフルエンサーを招待して製品を直接体験してもらいます。\n",
      "- **特典や割引**: 発売日限定の特別オファーや、初回購入者へのディスカウントを用意します。\n",
      "\n",
      "### 5. デジタルマーケティングの活用\n",
      "- **SNS戦略**: Instagram、Facebook、Twitterなどを活用して、製品の情報を定期的に発信し、エンゲージメントを高めます。\n",
      "- **メールマーケティング**: 既存の顧客や潜在顧客へのメール配信を行い、製品情報やオファーを周知します。\n",
      "- **オンライン広告**: Google AdsやSNS広告を利用して、ターゲット層に向けた広告配信を行います。\n",
      "\n",
      "### 6. フィードバックの収集と改善\n",
      "- **顧客の声を反映**: 発売後、顧客からのフィードバックを集め、製品改善やマーケティング戦略の調整に活用します。\n",
      "\n",
      "### 7. アフターサービスとロイヤリティプログラム\n",
      "- **顧客サポート**: 製品に関するサポートを強化し、顧客の信頼を得ます。\n",
      "- **ロイヤリティプログラム**: 再購入を促すためのポイント制度や特典を用意し、長期的な関係を築きます。\n",
      "\n",
      "これらのステップを計画的に実行することで、新製品の発売を成功に導くことができます。重要なのはターゲット顧客のニーズを常に意識し、柔軟に戦略を調整することです。\n"
     ]
    }
   ],
   "source": [
    "# 役割や前提の設定\n",
    "role = \"あなたはマーケティング分野に精通したビジネスコンサルタントです。企業の成長をサポートするために、効果的なマーケティング戦略を提供します。\"\n",
    "\n",
    "# メッセージの設定\n",
    "message = \"新製品の発売に向けた効果的なマーケティング戦略を教えてください。\"\n",
    "\n",
    "# APIへリクエスト\n",
    "response = client.chat.completions.create(\n",
    "    model=MODEL_NAME,\n",
    "    messages=[\n",
    "        {\"role\": \"system\", \"content\": role},\n",
    "        {\"role\": \"user\", \"content\": message},\n",
    "    ],\n",
    ")\n",
    "\n",
    "# 言語モデルからの回答を表示\n",
    "print(response.choices[0].message.content.strip())"
   ]
  },
  {
   "cell_type": "code",
   "execution_count": 5,
   "id": "88e6d10e",
   "metadata": {},
   "outputs": [
    {
     "name": "stdout",
     "output_type": "stream",
     "text": [
      "--------------------\n",
      "日本の魅力は多岐にわたります。以下にいくつかのポイントを紹介します。\n",
      "\n",
      "### 1. 文化と歴史\n",
      "- **伝統文化**: 着物、茶道、禅など、日本独特の伝統文化があります。例えば、京都の清水寺や金閣寺など、歴史ある寺院や神社も多いです。\n",
      "- **祭り**: 日本各地で行われ\n",
      "--------------------\n",
      "もちろん、日本にはたくさんの魅力がありますね。いくつか紹介します。\n",
      "\n",
      "1. **自然の美**: 日本は四季折々の美しい自然を楽しむことができます。春の桜、夏の滝、秋の紅葉、冬の雪景色など、地域ごとに異なる景色があります。\n",
      "\n",
      "2. **文化と伝統**: 日本は歴史が深く、伝統的な文化が生\n",
      "--------------------\n",
      "もちろん、日本の魅力にはさまざまなものがあります。以下にいくつかの重要なポイントを紹介します。\n",
      "\n",
      "### 1. 文化と伝統\n",
      "- **祭り**: 日本各地で行われる伝統的な祭りは、華やかな衣装や踊り、必須な食べ物がそろい、多様な地域文化を楽しめます。たとえば、青森のねぶた祭\n"
     ]
    }
   ],
   "source": [
    "# 出力の多様性\n",
    "message = \"日本の魅力を紹介して！\"\n",
    "\n",
    "# APIへリクエスト\n",
    "response = client.chat.completions.create(\n",
    "    model=MODEL_NAME,\n",
    "    messages=[\n",
    "        {\"role\": \"user\", \"content\": message},\n",
    "    ],\n",
    "    temperature=1.4,\n",
    "    n = 3, # 3回答を得る\n",
    "    max_completion_tokens = 100 # 出力トークン長を制限\n",
    ")\n",
    "\n",
    "# 結果を表示（複数回答を比較）\n",
    "for choice in response.choices:\n",
    "    print(\"-\" * 20)\n",
    "    print(choice.message.content.strip())"
   ]
  },
  {
   "cell_type": "code",
   "execution_count": 6,
   "id": "232a01d1",
   "metadata": {},
   "outputs": [
    {
     "name": "stdout",
     "output_type": "stream",
     "text": [
      "--------------------\n",
      "もちろんです！日本には多くの魅力があります。以下にいくつかのポイントを挙げてみます。\n",
      "\n",
      "1. **文化と歴史**:\n",
      "   - 日本には、古い寺院や神社、城など、歴史的な遺産が数多く存在します。例えば、京都の金閣寺や奈良の東大寺など、最高の歴史的な建築物が観光スポットとして人気\n",
      "--------------------\n",
      "もちろん、日本の魅力は多岐にわたります。以下にいくつかのポイントを紹介します。\n",
      "\n",
      "### 1. 文化と歴史\n",
      "日本は豊かな文化と歴史を持つ国です。古代の神社や寺院、城など、歴史的な遺産が各地に点在しています。例えば、京都の金閣寺や奈良の東大寺は、訪れる価値のある\n",
      "--------------------\n",
      "もちろんです！日本は多様な文化や美しい自然、独自の伝統など、さまざまな魅力を持つ国です。以下にいくつかの魅力を紹介します。\n",
      "\n",
      "1. **美しい風景**:\n",
      "   - 日本は四季がはっきりしており、春の桜、夏の山や海、秋の紅葉、冬の雪景色など、四季折々の美\n"
     ]
    }
   ],
   "source": [
    "# 出力の多様性\n",
    "message = \"日本の魅力を紹介して！\"\n",
    "\n",
    "# APIへリクエスト\n",
    "response = client.chat.completions.create(\n",
    "    model=MODEL_NAME,\n",
    "    messages=[\n",
    "        {\"role\": \"user\", \"content\": message},\n",
    "    ],\n",
    "    presence_penalty=-2.0,\n",
    "    n = 3, # 3回答を得る\n",
    "    max_completion_tokens = 100 # 出力トークン長を制限\n",
    ")\n",
    "\n",
    "# 結果を表示（複数回答を比較）\n",
    "for choice in response.choices:\n",
    "    print(\"-\" * 20)\n",
    "    print(choice.message.content.strip())"
   ]
  },
  {
   "cell_type": "code",
   "execution_count": 7,
   "id": "9e565212",
   "metadata": {},
   "outputs": [
    {
     "name": "stdout",
     "output_type": "stream",
     "text": [
      "tokens_count=2\n",
      "tokens=[95839, 3393]\n"
     ]
    }
   ],
   "source": [
    "import tiktoken\n",
    "from tiktoken.core import Encoding\n",
    "\n",
    "# OpenAI APIの特定のモデルに対応するトークナイザーを取得\n",
    "encoding: Encoding = tiktoken.encoding_for_model(MODEL_NAME) # o200k_base\n",
    "\n",
    "# テキストをトークンIDのリストに変換\n",
    "tokens = encoding.encode(\"こんにちは！\")\n",
    "tokens_count = len(tokens)\n",
    "\n",
    "# トークンの長さとトークンIDを表示\n",
    "print(f\"{tokens_count=}\")\n",
    "print(f\"{tokens=}\")"
   ]
  },
  {
   "cell_type": "code",
   "execution_count": 8,
   "id": "e4407de0",
   "metadata": {},
   "outputs": [
    {
     "name": "stdout",
     "output_type": "stream",
     "text": [
      "--------------------\n",
      "B:こんにちは！Aさん、こんにちは！今日はどうしたの？\n",
      "--------------------\n",
      "B:こんにちは！Aさん、元気でしたか？\n",
      "--------------------\n",
      "B:こんにちは！Aさん、お元気ですか？\n"
     ]
    }
   ],
   "source": [
    "# トークンの選択度合い\n",
    "message = \"\"\"\n",
    "AさんとBさんで会話してください。\n",
    "A:あ、Bさんだ。\n",
    "B:\n",
    "\"\"\"\n",
    "\n",
    "# APIへリクエスト\n",
    "response = client.chat.completions.create(\n",
    "    model=MODEL_NAME,\n",
    "    messages=[\n",
    "        {\"role\": \"user\", \"content\": message},\n",
    "    ],\n",
    "    max_tokens=100,\n",
    "    n=3,\n",
    "    logit_bias = {95839:8, 3393:8}\n",
    ")\n",
    "\n",
    "# 結果を表示\n",
    "for choice in response.choices:\n",
    "    print(\"-\" * 20)\n",
    "    print(choice.message.content.strip())"
   ]
  },
  {
   "cell_type": "code",
   "execution_count": 9,
   "id": "e8d388e6",
   "metadata": {},
   "outputs": [
    {
     "name": "stdout",
     "output_type": "stream",
     "text": [
      "言語モデルを使う際のポイントはいくつかあります。以下に主なポイントを挙げます。\n",
      "\n",
      "1. **目的の明確化**:\n",
      "   - 使用目的を明確にすることが重要です。情報検索、コンテンツ生成、翻訳、対話システムなど、目的によって適切なモデルの選択や使用方法が異なります。\n",
      "\n",
      "2. **プロンプト設計**:\n",
      "   - モデルに与える指示（プロンプト）は明確かつ具体的にすることで、より望ましい応答が得られます。試行錯誤を重ねることで、効果的なプロンプトを見つけることが大切です。\n",
      "\n",
      "3. **プライバシーの考慮**:\n",
      "   - 個人情報や機密情報をモデルに入力するべきではありません。データの取り扱いには十分注意する必要があります。\n",
      "\n",
      "4. **バイアスと限界の理解**:\n",
      "   - 言語モデルは訓練データに基づいて応答を生成するため、バイアスや誤情報が含まれる可能性があります。生成された情報の正確性や信頼性を常に確認することが重要です。\n",
      "\n",
      "5. **フィードバックの活用**:\n",
      "   - 応答の結果をもとにフィードバックを与え、モデルの使用方法を改善することが可能です。特に、必要に応じて追記や修正を行うことで、より良い結果が得られることがあります。\n",
      "\n",
      "6. **技術的制限の理解**:\n",
      "   - 言語モデルは完全ではなく、文脈やニュアンスを理解するのに限界があります。複雑な質問や高度な知識を必要とする場合には、慎重に利用する必要があります。\n",
      "\n",
      "7. **用途に応じた選択**:\n",
      "   - モデルの種類（例: GPT-3、BERTなど）やバージョン（例: GPT-4など）によって得意分野や出力の質が異なるため、利用目的に合ったモデルを選ぶことが重要です。\n",
      "\n",
      "これらのポイントを踏まえながら、言語モデルを適切に活用することで、より効果的な結果を得ることができるでしょう。"
     ]
    }
   ],
   "source": [
    "# メッセージの設定\n",
    "message = \"言語モデルを使う上でのポイントは\"\n",
    "\n",
    "# APIへリクエスト\n",
    "stream = client.chat.completions.create(\n",
    "    model=MODEL_NAME,\n",
    "    messages=[\n",
    "        {\"role\": \"user\", \"content\": message},\n",
    "    ],\n",
    "    stream=True,\n",
    ")\n",
    "\n",
    "for chunk in stream:\n",
    "    if chunk.choices:\n",
    "        if chunk.choices[0].delta.content is not None:\n",
    "            print(chunk.choices[0].delta.content, end=\"\")"
   ]
  }
 ],
 "metadata": {
  "kernelspec": {
   "display_name": ".venv",
   "language": "python",
   "name": "python3"
  },
  "language_info": {
   "codemirror_mode": {
    "name": "ipython",
    "version": 3
   },
   "file_extension": ".py",
   "mimetype": "text/x-python",
   "name": "python",
   "nbconvert_exporter": "python",
   "pygments_lexer": "ipython3",
   "version": "3.12.10"
  }
 },
 "nbformat": 4,
 "nbformat_minor": 5
}
