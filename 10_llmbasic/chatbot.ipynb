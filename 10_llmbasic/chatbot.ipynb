{
 "cells": [
  {
   "cell_type": "code",
   "execution_count": 1,
   "id": "9c922ad8",
   "metadata": {},
   "outputs": [],
   "source": [
    "# 必要なモジュールをインポート\n",
    "import os\n",
    "from dotenv import load_dotenv\n",
    "from openai import OpenAI\n",
    "from pprint import pprint\n",
    "\n",
    "# 環境変数の取得\n",
    "load_dotenv(\"../.env\")\n",
    "\n",
    "# OpenAI APIクライアントを生成\n",
    "client = OpenAI(api_key=os.environ['API_KEY'])\n",
    "\n",
    "# モデル名\n",
    "MODEL_NAME = \"gpt-4o-mini\""
   ]
  },
  {
   "cell_type": "code",
   "execution_count": 2,
   "id": "4320c1cf",
   "metadata": {},
   "outputs": [
    {
     "name": "stdout",
     "output_type": "stream",
     "text": [
      "質問:こんにちは！\n",
      "こんにちは！どういったことについてお話ししましょうか？質問:初心者にオススメのプログラミング言語を3つ教えて\n",
      "初心者にオススメのプログラミング言語を3つ紹介します。\n",
      "\n",
      "1. **Python**:\n",
      "   - **概要**: シンプルで読みやすい文法が特徴です。データ分析、機械学習、ウェブ開発など幅広い分野で利用されています。\n",
      "   - **理由**: 初心者でも学びやすく、豊富なライブラリと活発なコミュニティがあります。\n",
      "\n",
      "2. **JavaScript**:\n",
      "   - **概要**: ウェブ開発において不可欠な言語で、ブラウザ上で動作するプログラムを作成できます。\n",
      "   - **理由**: フロントエンド開発に強く、ReactやVue.jsなどのフレームワークを学ぶ際の基礎になります。\n",
      "\n",
      "3. **Ruby**:\n",
      "   - **概要**: シンプルで直感的な文法を持つオブジェクト指向言語で、特にRuby on Railsフレームワークを使ったウェブアプリケーション開発で有名です。\n",
      "   - **理由**: コードが簡潔で理解しやすく、初心者には非常に扱いやすいです。\n",
      "\n",
      "これらの言語は学習資源も豊富で、初心者がプログラミングの基本を理解するのに役立ちます。興味のある分野に合わせて選んでみると良いでしょう！\n",
      "---ご利用ありがとうございました！---\n"
     ]
    }
   ],
   "source": [
    "# メッセージを格納するリスト\n",
    "messages=[]\n",
    "\n",
    "while(True):\n",
    "    # ユーザーからの質問を受付\n",
    "    message = input(\"メッセージを入力:\")\n",
    "    # 質問が入力されなければ終了\n",
    "    if message.strip()==\"\":\n",
    "        break\n",
    "    print(f\"質問:{message}\")\n",
    "\n",
    "    # メッセージにユーザーからの質問を追加\n",
    "    messages.append({\"role\": \"user\", \"content\": message.strip()})\n",
    "    # やりとりが8を超えたら古いメッセージから削除\n",
    "    if len(messages) > 8:\n",
    "        del_message = messages.pop(0)\n",
    "\n",
    "    # APIへリクエスト\n",
    "    stream = client.chat.completions.create(\n",
    "        model=MODEL_NAME,\n",
    "        messages=messages,\n",
    "        stream=True,\n",
    "    )\n",
    "\n",
    "    # 言語モデルからの回答を表示\n",
    "    response_message = \"\"\n",
    "    for chunk in stream:\n",
    "        if chunk.choices:\n",
    "            next = chunk.choices[0].delta.content\n",
    "            if next is not None:\n",
    "                response_message += next\n",
    "                print(next, end='', flush=True)\n",
    "\n",
    "    # メッセージに言語モデルからの回答を追加\n",
    "    messages.append({\"role\": \"assistant\", \"content\": response_message})\n",
    "\n",
    "print(\"\\n---ご利用ありがとうございました！---\")"
   ]
  }
 ],
 "metadata": {
  "kernelspec": {
   "display_name": ".venv",
   "language": "python",
   "name": "python3"
  },
  "language_info": {
   "codemirror_mode": {
    "name": "ipython",
    "version": 3
   },
   "file_extension": ".py",
   "mimetype": "text/x-python",
   "name": "python",
   "nbconvert_exporter": "python",
   "pygments_lexer": "ipython3",
   "version": "3.12.10"
  }
 },
 "nbformat": 4,
 "nbformat_minor": 5
}
