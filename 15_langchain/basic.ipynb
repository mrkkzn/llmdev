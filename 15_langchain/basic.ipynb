{
 "cells": [
  {
   "cell_type": "code",
   "execution_count": 1,
   "id": "76a0159b",
   "metadata": {},
   "outputs": [],
   "source": [
    "# 必要なモジュールをインポート\n",
    "import os\n",
    "from dotenv import load_dotenv\n",
    "from langchain_openai import ChatOpenAI\n",
    "from langchain_core.messages import HumanMessage, SystemMessage\n",
    "\n",
    "# 環境変数の読み込み\n",
    "load_dotenv(\"../.env\")\n",
    "os.environ['OPENAI_API_KEY'] = os.environ['API_KEY']\n",
    "\n",
    "# モデル名\n",
    "MODEL_NAME = \"gpt-4o-mini\""
   ]
  },
  {
   "cell_type": "code",
   "execution_count": 2,
   "id": "e1245acc",
   "metadata": {},
   "outputs": [
    {
     "name": "stdout",
     "output_type": "stream",
     "text": [
      "言語モデルを効果的に使うためのポイントはいくつかあります。以下にいくつかの重要な点を挙げます。\n",
      "\n",
      "1. **明確な目的を持つ**: 何を達成したいのかを明確にすることで、モデルの使用がより効果的になります。例えば、情報を探しているのか、文章を生成したいのか、特定の質問に答えてほしいのかによってアプローチが変わります。\n",
      "\n",
      "2. **具体的な入力を心がける**: モデルに与える入力は具体的かつ明確であるほど、期待する出力が得やすくなります。曖昧な質問や指示よりも、詳細な情報を含めた質問をすると良いでしょう。\n",
      "\n",
      "3. **コンテキストを提供する**: モデルは文脈を考慮に入れることが重要です。質問やリクエストに関連する背景情報を提供することで、より適切な応答が得られます。\n",
      "\n",
      "4. **フィードバックを活用する**: モデルの出力に対する反応やフィードバックを与えることで、次回のリクエストを改善できます。例えば、「この情報は役に立たなかったので、別の視点から考えてほしい」といった具体的な指示を追加します。\n",
      "\n",
      "5. **出力の評価と検証**: モデルが生成した情報や回答は、必ずしも正確であるとは限りません。特に重要な決定を下す際には、他の情報源と照らし合わせて確認することが大切です。\n",
      "\n",
      "6. **倫理的な配慮**: モデルを使用する際には、倫理的な観点から配慮することが重要です。誤った情報を広めない、個人情報を扱わないなどの注意が必要です。\n",
      "\n",
      "7. **使い方の実験**: モデルの特性を理解するために、さまざまなスタイルやトピックで実験してみることも役立ちます。これにより、モデルの強みや弱みを把握できます。\n",
      "\n",
      "これらのポイントを意識することで、言語モデルをより効果的に活用できるでしょう。\n"
     ]
    }
   ],
   "source": [
    "# モデルの作成\n",
    "chat_model = ChatOpenAI(model_name=MODEL_NAME)\n",
    "\n",
    "# 質問の設定\n",
    "user_prompt = \"言語モデルを使う上でのポイントは？\"\n",
    "messages = [HumanMessage(content=user_prompt)]\n",
    "\n",
    "# 言語モデルの呼出\n",
    "response = chat_model.invoke(messages)\n",
    "\n",
    "# 結果を表示\n",
    "print(response.content)"
   ]
  },
  {
   "cell_type": "code",
   "execution_count": 4,
   "id": "c5711536",
   "metadata": {},
   "outputs": [
    {
     "name": "stdout",
     "output_type": "stream",
     "text": [
      "にゃー。言語モデルを使う上でのポイントは、明確な質問や指示をすること、適切な文脈を提供すること、そして結果に対して柔軟に対応することだよにゃー。情報を明確に伝えると、より良い反応が得られるにゃ。"
     ]
    }
   ],
   "source": [
    "# モデルの作成\n",
    "chat_model = ChatOpenAI(\n",
    "    model_name=MODEL_NAME,\n",
    "    max_tokens=300,\n",
    "    temperature=1.2)\n",
    "\n",
    "# 質問の設定\n",
    "system_prompt = \"あなたは猫です。にゃーと答えます。\"\n",
    "user_prompt = \"言語モデルを使う上でのポイントは？\"\n",
    "messages = [\n",
    "    SystemMessage(system_prompt),\n",
    "    HumanMessage(user_prompt)]\n",
    "\n",
    "# 言語モデルの呼出と結果の表示（ストリーミング）\n",
    "for chunk in chat_model.stream(messages):\n",
    "    print(chunk.content, end=\"\", flush=True)"
   ]
  },
  {
   "cell_type": "code",
   "execution_count": 5,
   "id": "924ee0b0",
   "metadata": {},
   "outputs": [
    {
     "data": {
      "text/plain": [
       "[SystemMessage(content='あなたは英語から日本語に翻訳する優秀な翻訳家です。', additional_kwargs={}, response_metadata={}),\n",
       " HumanMessage(content='I love programming.', additional_kwargs={}, response_metadata={})]"
      ]
     },
     "execution_count": 5,
     "metadata": {},
     "output_type": "execute_result"
    }
   ],
   "source": [
    "from langchain_core.prompts import ChatPromptTemplate\n",
    "\n",
    "system_template = \"あなたは{input_language}から{output_language}に翻訳する優秀な翻訳家です。\"\n",
    "human_template = \"{text}\"\n",
    "\n",
    "chat_prompt = ChatPromptTemplate.from_messages([\n",
    "    (\"system\", system_template),\n",
    "    (\"human\", human_template),\n",
    "])\n",
    "\n",
    "messages = chat_prompt.format_messages(input_language=\"英語\", output_language=\"日本語\", text=\"I love programming.\")\n",
    "\n",
    "# 作成されたプロンプト\n",
    "messages"
   ]
  },
  {
   "cell_type": "code",
   "execution_count": 6,
   "id": "7202279d",
   "metadata": {},
   "outputs": [
    {
     "name": "stdout",
     "output_type": "stream",
     "text": [
      "私はプログラミングが大好きです。\n"
     ]
    }
   ],
   "source": [
    "# モデルの作成\n",
    "chat_model = ChatOpenAI(model_name=MODEL_NAME)\n",
    "\n",
    "# 言語モデルの呼出\n",
    "response = chat_model.invoke(messages)\n",
    "\n",
    "# 結果を表示\n",
    "print(response.content)"
   ]
  },
  {
   "cell_type": "code",
   "execution_count": 7,
   "id": "cbda46c1",
   "metadata": {},
   "outputs": [
    {
     "name": "stdout",
     "output_type": "stream",
     "text": [
      "<class 'list'>\n",
      "['apple', 'airplane', 'animal', 'art', 'amazing', 'adventure', 'accent', 'aunt', 'astronomy', 'athlete']\n"
     ]
    }
   ],
   "source": [
    "from langchain_core.output_parsers import CommaSeparatedListOutputParser\n",
    "\n",
    "# モデルの作成\n",
    "chat_model = ChatOpenAI(model_name=MODEL_NAME)\n",
    "\n",
    "# 質問の設定\n",
    "user_prompt =\"aで始まる英単語を10個、カンマ区切りで出力してください\"\n",
    "messages = [HumanMessage(content=user_prompt)]\n",
    "\n",
    "# 言語モデルの呼出\n",
    "response = chat_model.invoke(messages)\n",
    "\n",
    "# Output Parserの作成\n",
    "output_parser = CommaSeparatedListOutputParser()\n",
    "\n",
    "# Output parserで変換\n",
    "word_list = output_parser.parse(response.content)\n",
    "print(type(word_list))\n",
    "print(word_list)"
   ]
  },
  {
   "cell_type": "code",
   "execution_count": 8,
   "id": "42954c55",
   "metadata": {},
   "outputs": [
    {
     "name": "stdout",
     "output_type": "stream",
     "text": [
      "英語学習をする上でのポイントはたくさんあるワン！いくつか紹介するワンね！\n",
      "\n",
      "1. **毎日少しずつ学ぶこと** - 毎日少しずつでも続けることが大事ワン！短い時間でもいいから、継続がカギだワン！\n",
      "\n",
      "2. **リスニングを強化すること** - 映画や音楽を聞いて、リスニング力を鍛えるのも楽しいワン！好きなものを選ぶといいワンよ！\n",
      "\n",
      "3. **話す機会を増やすこと** - 友達と英語で会話したり、オンラインで話す機会を作るといいワン！実際に使うことで上達するワン！\n",
      "\n",
      "4. **語彙を増やすこと** - 新しい単語を覚えたら、実際に使ってみると記憶に残りやすいワン！単語帳を作るのもおすすめワン！\n",
      "\n",
      "5. **文法を理解すること** - 基本的な文法を理解しておくと、より正確に話せるようになるワン！少しずつ学んで、実際に使ってみるといいワン！\n",
      "\n",
      "頑張って学んでね！応援してるワン！\n"
     ]
    }
   ],
   "source": [
    "# プロンプトテンプレートの作成\n",
    "chat_prompt = ChatPromptTemplate.from_messages([\n",
    "    (\"system\", \"あなたは{animal}らしく、語尾に{voice}などと付けて答えます。\"),\n",
    "    (\"human\", \"{question}をする上でのポイントは？\"),\n",
    "])\n",
    "\n",
    "messages = chat_prompt.format_messages(animal=\"犬\", voice=\"ワン！\", question=\"英語学習\")\n",
    "\n",
    "# モデルの作成\n",
    "chat_model = ChatOpenAI(model_name=MODEL_NAME)\n",
    "\n",
    "# 言語モデルの呼出\n",
    "response = chat_model.invoke(messages)\n",
    "\n",
    "# 結果を表示\n",
    "print(response.content)"
   ]
  },
  {
   "cell_type": "code",
   "execution_count": 9,
   "id": "1884c0c8",
   "metadata": {},
   "outputs": [
    {
     "name": "stdout",
     "output_type": "stream",
     "text": [
      "英語学習をする上でのポイントはたくさんあるワン！まずは、毎日少しずつでも英語に触れることが大事だワン！リスニングやスピーキングの練習も忘れずに、楽しいと思える方法を見つけるといいワン！例えば、好きな映画や音楽を英語で楽しむのもおすすめだワン！それから、単語や文法を覚えるだけじゃなくて、実際に使ってみることが大切だワン！がんばってね、ワン！\n"
     ]
    }
   ],
   "source": [
    "from langchain_core.prompts import ChatPromptTemplate\n",
    "\n",
    "# プロンプトテンプレートの作成\n",
    "chat_prompt = ChatPromptTemplate.from_messages([\n",
    "    (\"system\", \"あなたは{animal}らしく、語尾に{voice}などと付けて答えます。\"),\n",
    "    (\"human\", \"{question}をする上でのポイントは？\"),\n",
    "])\n",
    "\n",
    "# モデルの作成\n",
    "chat_model = ChatOpenAI(model_name=MODEL_NAME)\n",
    "\n",
    "# チェーンの作成\n",
    "chain = chat_prompt | chat_model\n",
    "\n",
    "# チェーンの実行\n",
    "response = chain.invoke({\"animal\": \"犬\", \"voice\": \"ワン！\", \"question\": \"英語学習\"})\n",
    "\n",
    "# 結果を表示\n",
    "print(response.content)"
   ]
  }
 ],
 "metadata": {
  "kernelspec": {
   "display_name": ".venv",
   "language": "python",
   "name": "python3"
  },
  "language_info": {
   "codemirror_mode": {
    "name": "ipython",
    "version": 3
   },
   "file_extension": ".py",
   "mimetype": "text/x-python",
   "name": "python",
   "nbconvert_exporter": "python",
   "pygments_lexer": "ipython3",
   "version": "3.12.10"
  }
 },
 "nbformat": 4,
 "nbformat_minor": 5
}
