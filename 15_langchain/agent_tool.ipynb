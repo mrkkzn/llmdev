{
 "cells": [
  {
   "cell_type": "code",
   "execution_count": 1,
   "id": "5950f0f6",
   "metadata": {},
   "outputs": [],
   "source": [
    "# 必要なモジュールをインポート\n",
    "import os\n",
    "from dotenv import load_dotenv\n",
    "from langchain_openai import ChatOpenAI\n",
    "\n",
    "# 環境変数の読み込み\n",
    "load_dotenv(\"../.env\")\n",
    "os.environ['OPENAI_API_KEY'] = os.environ['API_KEY']\n",
    "\n",
    "# モデル名\n",
    "MODEL_NAME = \"gpt-4o-mini\""
   ]
  },
  {
   "cell_type": "code",
   "execution_count": 2,
   "id": "d6968228",
   "metadata": {},
   "outputs": [],
   "source": [
    "# 検索ツールの定義\n",
    "from langchain_community.tools.tavily_search import TavilySearchResults\n",
    "\n",
    "tool = TavilySearchResults(max_results=2)\n",
    "tools = [tool]"
   ]
  },
  {
   "cell_type": "code",
   "execution_count": 3,
   "id": "0c31f56a",
   "metadata": {},
   "outputs": [
    {
     "data": {
      "text/plain": [
       "[{'url': 'https://www.genspark.ai/spark/langgraph%E3%81%AE%E3%83%8E%E3%83%BC%E3%83%89%E3%81%AE%E5%87%BA%E5%8A%9B%E5%9E%8B%E3%81%AB%E3%81%A4%E3%81%84%E3%81%A6/950c187d-6dd0-4ca5-8d6d-35da0d5cbf85',\n",
       "  'content': 'Ask anything\\n\\nTable of Contents\\n\\nインスピレーションと洞察から生成されました 7 ソースから\\n\\n## はじめに\\n\\n LangGraphのノードは、エージェントの状態を受け取り、更新した状態を返す関数として定義されます。\\n ノードの出力は、通常、状態の一部を更新した辞書形式で返されます。\\n ToolNodeは、AIMessageのtool\\\\_callsを実行し、その結果をToolMessageのリストとして返します。\\n ノードの出力型は、状態の更新方法に依存し、TypedDictやPydantic BaseModelで定義されることが多いです。\\n LangGraphでは、ノードの出力をどのように更新するかを定義するためにreducersが使用されます。\\n\\n## LangGraphの基本要素+%E5%9F%BA%E6%9C%AC%E8%A6%81%E7%B4%A0) [...] Graph: エージェントのワークフローをモデル化したもの。\\n State: エージェントの状態を定義し、ノード間で受け渡されるデータ。\\n Node: 各処理を行う関数で、状態を受け取り更新する。\\n Edge: ノード間のつながりを定義し、処理の順序を決定する。\\n Reducers: 状態の各要素をどのように更新するかを定義する。\\n\\n## ToolNodeの詳細+%E8%A9%B3%E7%B4%B0) \\n\\n ToolNodeは、AIMessageのtool\\\\_callsを実行するノード。\\n 複数のtool\\\\_callsがある場合、並行して実行される。\\n 出力は、各tool\\\\_callに対応するToolMessageのリスト。\\n ToolNodeは、StateGraphまたはMessageGraphで使用される。\\n stateは、メッセージのリストを含む必要がある。\\n\\n## Mermaid出力機能'},\n",
       " {'url': 'https://blog.elcamy.com/posts/136913a3',\n",
       "  'content': 'Copy \\n\\n```\\nfrom langgraph.graph import MessagesState\\n\\nclass State(MessagesState):\\n    documents: list[str]\\n```\\n\\n##### Nodes\\n\\n  \\n\\nLangGraphにおいて、Nodesはエージェントの特定の作業を実行するPython関数（同期または非同期）です。以下の図の赤枠で囲まれた部分がノードを表します。\\n\\nImage 5: image block\\n\\nNodesの最初の引数はStateで、オプションの2番目の引数には設定パラメータを含む辞書型変数が渡されます。\\n\\n具体的にはノードは、以下のようにしてグラフに追加されます。\\n\\n Copy \\n\\n```\\nfrom langchain_core.runnables import RunnableConfig\\nfrom langgraph.graph import StateGraph\\n\\nbuilder = StateGraph(dict) [...] このように、LangGraphではノードとエッジを組み合わせて、複雑なエージェントのワークフローを構築できます。各ノードは特定のタスクを実行し、エッジが次に実行するノードを決定します。\\n\\n##### Edges\\n\\n  \\n\\nEdgesは、エージェントの動作を制御し、異なるノード間の通信を定義する重要な要素です。エッジは以下の図の矢印にあたります。\\n\\nImage 6: image block\\n\\nEdgesの種類は以下の通りです。\\n\\n   通常のエッジ：一つのノードから次のノードへ直接移動します。 \\n   条件付きエッジ：次にどのノードに移動するかを決定するための関数を使用します。 \\n   エントリーポイント：ユーザー入力が到着したときに最初に呼び出されるノードです。 \\n   条件付きエントリーポイント：ユーザー入力が到着したときに最初にどのノードを呼び出すかを決定するための関数を使用します。 \\n\\nノードは複数の出力エッジを持つことができ\\n\\n###### 通常のエッジ\\nあるノードから別のノードへ常に移動したい場合は、`add_edge`メソッドを使います。\\n\\n Copy [...] ```\\nfrom langgraph.graph import START\\n\\ngraph.add_edge(START, \"node_a\")\\n```\\n\\n###### ENDノード\\nENDノードは、処理の終わりを示す特別なノードです。このノードは、これ以上続きがないエッジを示します。\\n\\n Copy \\n\\n```\\nfrom langgraph.graph import END\\n\\ngraph.add_edge(\"node_a\", END)\\n```\\n\\n###### ノードの追加とエッジの作成\\nノードをグラフに追加するには`add_node`メソッドを使用します。これにより、関数がノードとして登録され、エッジを使ってノード間の関係が定義されます。\\n\\n Copy \\n\\n```\\nbuilder.add_node(\"my_node\", my_node)\\nbuilder.add_node(\"other_node\", my_other_node)\\ngraph.add_edge(\"my_node\", \"other_node\")\\n```'}]"
      ]
     },
     "execution_count": 3,
     "metadata": {},
     "output_type": "execute_result"
    }
   ],
   "source": [
    "tool.invoke(\"Langgraphのノードとは？\")"
   ]
  },
  {
   "cell_type": "code",
   "execution_count": 4,
   "id": "1a7d9bb2",
   "metadata": {},
   "outputs": [
    {
     "data": {
      "text/plain": [
       "<langgraph.graph.state.StateGraph at 0x10f2e49e0>"
      ]
     },
     "execution_count": 4,
     "metadata": {},
     "output_type": "execute_result"
    }
   ],
   "source": [
    "from typing import Annotated\n",
    "from typing_extensions import TypedDict\n",
    "from langgraph.graph import StateGraph\n",
    "from langgraph.graph.message import add_messages\n",
    "\n",
    "# Stateクラスの定義\n",
    "class State(TypedDict):\n",
    "    messages: Annotated[list, add_messages]\n",
    "\n",
    "# グラフのインスタンスを作成\n",
    "graph_builder = StateGraph(State)\n",
    "\n",
    "# 言語モデルの定義\n",
    "llm = ChatOpenAI(model_name=MODEL_NAME)\n",
    "\n",
    "# 変更点：ツール定義の紐づけ\n",
    "llm_with_tools = llm.bind_tools(tools)\n",
    "\n",
    "# チャットボットノードの作成\n",
    "def chatbot(state: State):\n",
    "    return {\"messages\": [llm_with_tools.invoke(state[\"messages\"])]}\n",
    "\n",
    "# グラフにチャットボットノードを追加\n",
    "graph_builder.add_node(\"chatbot\", chatbot)"
   ]
  },
  {
   "cell_type": "code",
   "execution_count": 5,
   "id": "b08e857a",
   "metadata": {},
   "outputs": [],
   "source": [
    "from langgraph.prebuilt import ToolNode, tools_condition\n",
    "from langgraph.checkpoint.memory import MemorySaver\n",
    "\n",
    "# ツールノードの作成\n",
    "tool_node = ToolNode(tools)\n",
    "\n",
    "# グラフにツールノードを追加\n",
    "graph_builder.add_node(\"tools\", tool_node)\n",
    "\n",
    "# 条件付エッジの作成\n",
    "graph_builder.add_conditional_edges(\n",
    "    \"chatbot\",\n",
    "    tools_condition, # ツール呼出と判断したらツールノードを呼ぶ\n",
    ")\n",
    "\n",
    "# ツールが呼び出されるたびに、チャットボットに戻って次のステップを決定\n",
    "# ツールからチャットボットへの戻りエッジを作成\n",
    "graph_builder.add_edge(\"tools\", \"chatbot\")\n",
    "\n",
    "# 開始ノードの指定\n",
    "graph_builder.set_entry_point(\"chatbot\")\n",
    "\n",
    "# 記憶を持つ実行可能なステートグラフの作成\n",
    "memory = MemorySaver()\n",
    "graph = graph_builder.compile(checkpointer=memory)"
   ]
  },
  {
   "cell_type": "code",
   "execution_count": 6,
   "id": "f5316527",
   "metadata": {},
   "outputs": [
    {
     "data": {
      "image/jpeg": "[encoded data removed]",
      "text/plain": [
       "<IPython.core.display.Image object>"
      ]
     },
     "metadata": {},
     "output_type": "display_data"
    }
   ],
   "source": [
    "# グラフの可視化\n",
    "from IPython.display import Image, display\n",
    "\n",
    "display(Image(graph.get_graph().draw_mermaid_png()))"
   ]
  },
  {
   "cell_type": "code",
   "execution_count": 7,
   "id": "334bf136",
   "metadata": {},
   "outputs": [
    {
     "name": "stdout",
     "output_type": "stream",
     "text": [
      "こんにちは！\n",
      "こんにちは！今日はどのようなお手伝いをしましょうか？\n",
      "1足す2は？\n",
      "1足す2は3です。何か他に知りたいことがありますか？\n",
      "1メートル以上の魚は？\n",
      "\n",
      "[{\"url\": \"https://tsurihack.com/8448\", \"content\": \"どの魚も、陸っぱりで狙えて最大全長が1mを超えるものばかり！\\n\\nお住まいの地域にこれからリストアップする魚が生息していたら、狙ってみてはいかがでしょうか。\\n\\n鯉｜もっとも手軽で簡単な大物\\n\\n難易度：★☆☆｜平均70cm、1m超えれば超絶レア\\n魚釣り初心者の方にオススメしたいのは食パンを使ったコイ釣りです！\\n\\n安・近・短で手軽に釣ることができ、ボウズ（釣果ゼロ）で終わってしまうリスクも少ないのがパンコイゲームの魅力ですね。\\n\\n▼食パンを使ったコイの釣り方はこちら！\\n針と餌だけのカンタン仕掛けで巨大魚が釣れる！？“パン鯉”に子供と挑戦してみました2023/04/27釣り好き！まっちゃん\\n\\n針と餌だけのカンタン仕掛けで巨大魚が釣れる！？“パン鯉”に子供と挑戦してみました\\n\\n2023/04/27釣り好き！まっちゃん\\n\\n1mを超えるコイは超絶レアですよ！\\n\\n身近な川魚のコイといえども最大サイズは1ｍを優に超え、コイを専門に狙う釣り人にとってメーター超えの巨鯉は一生に1匹でも良いから釣ってみたい憧れのサイズです。 [...] 最大で1mに迫るような大物を釣り狙う場合、例え身近な魚であっても釣り具の強度や仕掛け、ルアーの種類などをしっかり選ぶ必要があります。\\n\\n『この魚を釣ってみたい！』という確固たる目標を持って挑戦していく過程が大物釣り最大の醍醐味であり、準備や試行錯誤の期間が長い程、目標を手にした瞬間、つまり大物を釣り上げた瞬間の感動と達成感はなんとも言葉に表すことができないものになってきます。\\n\\n全身が震えたり、感情を抑えられず雄たけびやガッツポーズが出ちゃったりする……そんな体験を大人になっても味わえる。それが魚釣りの良い所だと僕は思っています。\\n\\n大物を釣り上げるまでの3ステップをお伝えします\\n\\nどんな大物を釣りたいか決めましょう\\n\\nまずは、自分の目標とする魚を設定しましょう。魚種でも良いですし、この魚の何センチ以上！　とかでも素敵な目標だと思います。\\n\\n他人に認められる魚とか、SNSでイイネをたくさんもらえそうな魚とかでも良いかもしれませんが、大切なのは、“自分が釣ってみたい魚や大きさ”を意識すること。\\n\\n僕はいつも、自分の好奇心と探求心を一番大切にするように心がけています。 [...] 魚の力強さを体感できる\\n\\n大物釣りの魅力のひとつに、魚達の力強さを一本の釣り糸を通して体感できることがあります。\\n\\nとくに1m、10kgを超えるような魚の重量感溢れるファイトで、身体が引っ張られるような感覚を一度味わうと病みつきになってしまいます。\\n\\nもちろん、魚の引きの強度やランディングに至るまでの難易度は魚種によってさまざま。今回の記事では、難易度別に魅力的な大物をご紹介していきます。\\n\\nまずは、僕が思う大物釣りの魅力からお届けします！\\n\\n迫力満点な写真が撮れます\\n\\n釣り上げた魚を抱えて撮る、記念写真も大物釣りの醍醐味のひとつと言えるでしょう。\\n\\n自分なりに苦労したり試行錯誤して釣り上げた大物の写真って、時間が経っても見返したくなるものです。\\n\\n時には魚体が大きすぎて陸に揚げられず、自ら水中に入って写真を撮るなんてこともよくあります。\\n\\n大物を狙っていると、“イッピキの価値に気が付くキッカケになり、釣り上げた魚を大切に扱いたい”と価値観が変わることもありますよ。\\n\\n“目標を持った魚釣りの魅力”をお伝えしたい\"}, {\"url\": \"https://kamigame.jp/natsumon/page/274866979691603850.html\", \"content\": \"### 座敷わらしで使う\\n\\nImage 28: 座敷わらしで使う\\n\\nサクラマスやマダコなどの特定の魚は、座敷わらしと遊ぶために必要だ。釣った魚は、用途が不明でも捨てずに獲っておこう。\\n\\n座敷わらしの場所マップ｜全30箇所掲載！\\n\\n### 博物館に展示する\\n\\nImage 29\\n\\nImage 30\\n\\n博物館の地図\\n\\n| 珍しい魚一覧 |\\n\\n| 1m以上のブリ |\\n| 50cm以上のホウボウ |\\n| アカナマダ |\\n\\n珍しい魚は、博物館に展示できる。「1m以上のブリ」「50cm以上のホウボウ」「アカナマダ」を見つけた際は、博物館に持って行って展示してもらおう。\\n\\n珍しいサカナを集めよう！の進め方と報酬\\n\\n人気記事ランキング\\n\\n1珍しい魚の場所\\n2大きな冒険一覧\\n3座敷わらしの場所マップ\\n4天狗の秘宝の入手場所\\n5てっぺんをめざせ！の進め方\\n6釣りをするコツ\\n7珍しい虫の場所マップ\\n8不思議な城のナゾを解け！の進め方\\n9魚の生息場所一覧\\n10初心者必見！1日の進め方\\n\\n攻略班おすすめ記事\"}]\n",
      "1メートル以上の魚には、以下のような種類があります：\n",
      "\n",
      "1. **鯉（コイ）** - 鯉は最も手軽に釣ることができる大物の一つで、平均70cmですが、1mを超えるサイズも存在します。特に、コイを専門に狙う釣り人にとって、メーター超えの巨鯉は憧れのサイズです。\n",
      "\n",
      "2. **ブリ** - ゲーム内でも1m以上のブリが珍しい魚として紹介されています。\n",
      "\n",
      "3. **ホウボウ** - 50cm以上のホウボウも特筆すべき魚です。\n",
      "\n",
      "これらの魚は、釣りの対象として人気があります。特に大物釣りは、魚の引きの強さを体感できる楽しさがあり、多くの釣り人にとって魅力的な挑戦です。\n",
      "\n",
      "詳しくは、[こちらの情報](https://tsurihack.com/8448)をご覧ください。何か他に知りたいことがあれば教えてください！\n",
      "ありがとうございました!\n"
     ]
    }
   ],
   "source": [
    "# グラフの実行と結果の表示\n",
    "def stream_graph_updates(user_input: str):\n",
    "    events = graph.stream(\n",
    "        {\"messages\": [(\"user\", user_input)]},\n",
    "        {\"configurable\": {\"thread_id\": \"1\"}},\n",
    "        stream_mode=\"values\")\n",
    "    # 結果をストリーミングで得る\n",
    "    for event in events:\n",
    "        print(event[\"messages\"][-1].content, flush=True)\n",
    "\n",
    "# チャットボットのループ\n",
    "while True:\n",
    "    user_input = input(\"質問:\")\n",
    "    if user_input.strip()==\"\":\n",
    "        print(\"ありがとうございました!\")\n",
    "        break\n",
    "    stream_graph_updates(user_input)"
   ]
  }
 ],
 "metadata": {
  "kernelspec": {
   "display_name": ".venv",
   "language": "python",
   "name": "python3"
  },
  "language_info": {
   "codemirror_mode": {
    "name": "ipython",
    "version": 3
   },
   "file_extension": ".py",
   "mimetype": "text/x-python",
   "name": "python",
   "nbconvert_exporter": "python",
   "pygments_lexer": "ipython3",
   "version": "3.12.10"
  }
 },
 "nbformat": 4,
 "nbformat_minor": 5
}
