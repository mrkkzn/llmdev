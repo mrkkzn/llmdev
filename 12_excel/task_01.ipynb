{
 "cells": [
  {
   "cell_type": "code",
   "execution_count": 6,
   "id": "9e89cd04",
   "metadata": {},
   "outputs": [],
   "source": [
    "# 必要なモジュールをインポート\n",
    "import os\n",
    "from dotenv import load_dotenv\n",
    "from openai import OpenAI\n",
    "import pandas as pd\n",
    "\n",
    "# 環境変数の取得\n",
    "load_dotenv()\n",
    "\n",
    "# OpenAI APIクライアントを生成\n",
    "client = OpenAI(api_key=os.environ['API_KEY'])\n",
    "\n",
    "# モデル名\n",
    "MODEL_NAME = \"gpt-4o-mini\""
   ]
  },
  {
   "cell_type": "code",
   "execution_count": 11,
   "id": "1b256327",
   "metadata": {},
   "outputs": [
    {
     "name": "stdout",
     "output_type": "stream",
     "text": [
      "                                               アンケート\n",
      "0  「使った瞬間、髪がしっとりサラサラになり驚きました。香りも強すぎずリラックスできる香りで気に...\n",
      "1  「洗い上がりはスッキリするのに、髪が全然きしまず指通りが良くなりました！乾燥しがちな髪質です...\n",
      "2  「香りが少し甘めで、好みが分かれそうです。個人的には好きですが、甘い香りが苦手な方には少し強...\n",
      "3  「ボトルのデザインがシンプルでおしゃれなので、バスルームが映える感じがします。使用感も良くて...\n",
      "4  「使い始めてから頭皮のかゆみが減りました。敏感肌なので合わないシャンプーが多いのですが、これ...\n",
      "5              「使ってみたが髪がギシギシになり、残念ながら私の髪質には会いませんでした」\n",
      "6        「ひどい商品！SNSの広告に流れてきてみんないいって言ってのに！もう二度と使いません」\n",
      "7  「可もなく不可もなく。期待値が高すぎたのかも。でもどうしてこんなに流行ってるのでしょうか？特...\n"
     ]
    }
   ],
   "source": [
    "# 1. Excelファイルを読み込む\n",
    "df = pd.read_excel('サンプルデータ.xlsx', sheet_name='アンケート_2')\n",
    "# データフレームを表示して確認\n",
    "print(df)\n",
    "\n"
   ]
  },
  {
   "cell_type": "code",
   "execution_count": 10,
   "id": "4fe06d6b",
   "metadata": {},
   "outputs": [],
   "source": [
    "# アンケートの主要キーワードをLLMで抽出する関数\n",
    "def extract_keywords(text):\n",
    "    # 2. データをLLM用にテキスト形式に変換\n",
    "    # プロンプトの作成\n",
    "    prompt_text = f\"以下のアンケートから主要なキーワードをカンマ区切りで抽出してください。\\nアンケート: {text}\"\n",
    "\n",
    "    # 3. OpenAI APIの呼び出し\n",
    "    try:\n",
    "        # OpenAI APIで応答を生成\n",
    "        response = client.chat.completions.create(\n",
    "            model=MODEL_NAME,\n",
    "            messages=[\n",
    "                {\"role\": \"user\", \"content\": prompt_text},\n",
    "            ],\n",
    "            max_tokens=100,  # 応答の長さを調整\n",
    "            temperature=0.3  # 創造性の調整\n",
    "        )\n",
    "        # キーワード抽出結果を取得\n",
    "        keywords = response.choices[0].message.content.strip()\n",
    "        return keywords\n",
    "    \n",
    "    except Exception as e:\n",
    "        print(f\"API呼び出しでエラーが発生しました: {e}\")\n",
    "        return \"エラー\""
   ]
  },
  {
   "cell_type": "code",
   "execution_count": 4,
   "id": "898c8948",
   "metadata": {},
   "outputs": [
    {
     "name": "stdout",
     "output_type": "stream",
     "text": [
      "pandas, Excelファイル, 読み書き, データ, 集計, 変換, フィルタリング, 複雑な操作, ライブラリ\n"
     ]
    }
   ],
   "source": [
    "# テストコードで確認\n",
    "text = extract_keywords(\"pandasは、Excelファイル（`.xls`、`.xlsx` 形式）の読み書きに加え、データの集計や変換、フィルタリングといった複雑な操作を手軽に行えるライブラリです。\")\n",
    "print(text)"
   ]
  },
  {
   "cell_type": "code",
   "execution_count": 12,
   "id": "97311276",
   "metadata": {},
   "outputs": [
    {
     "name": "stdout",
     "output_type": "stream",
     "text": [
      "                                               アンケート  \\\n",
      "0  「使った瞬間、髪がしっとりサラサラになり驚きました。香りも強すぎずリラックスできる香りで気に...   \n",
      "1  「洗い上がりはスッキリするのに、髪が全然きしまず指通りが良くなりました！乾燥しがちな髪質です...   \n",
      "2  「香りが少し甘めで、好みが分かれそうです。個人的には好きですが、甘い香りが苦手な方には少し強...   \n",
      "3  「ボトルのデザインがシンプルでおしゃれなので、バスルームが映える感じがします。使用感も良くて...   \n",
      "4  「使い始めてから頭皮のかゆみが減りました。敏感肌なので合わないシャンプーが多いのですが、これ...   \n",
      "5              「使ってみたが髪がギシギシになり、残念ながら私の髪質には会いませんでした」   \n",
      "6        「ひどい商品！SNSの広告に流れてきてみんないいって言ってのに！もう二度と使いません」   \n",
      "7  「可もなく不可もなく。期待値が高すぎたのかも。でもどうしてこんなに流行ってるのでしょうか？特...   \n",
      "\n",
      "                                               キーワード  \n",
      "0  髪, しっとり, サラサラ, 驚き, 香り, リラックス, 泡立ち, 少量, 洗える, コス...  \n",
      "1  洗い上がり, スッキリ, 髪, きしまず, 指通り, 乾燥, 髪質, シャンプー, まとまり...  \n",
      "2    香り, 甘め, 好み, 強く感じる, 洗い上がり, 軽やか, 頭皮, すっきり, 夏場, 快適  \n",
      "3  ボトルデザイン, シンプル, おしゃれ, バスルーム, 使用感, シャンプー, 乾燥, パサ...  \n",
      "4  頭皮のかゆみ, 敏感肌, シャンプー, 刺激が少ない, 使いやすい, 香り, ナチュラル, ...  \n",
      "5                              髪, ギシギシ, 残念, 髪質, 合わない  \n",
      "6                          ひどい商品, SNS, 広告, いい, 使いません  \n",
      "7               可もなく不可もなく, 期待値, 流行, 特筆すべきもの, 見当たりません  \n"
     ]
    }
   ],
   "source": [
    "# 4. 分析結果をデータフレームに変換\n",
    "\n",
    "# B列（キーワード）を初期化\n",
    "df['キーワード'] = \"\"\n",
    "\n",
    "# for文で各アンケート行に対してキーワード抽出を実行\n",
    "for index, row in df.iterrows():\n",
    "    # A列のアンケート内容を取得\n",
    "    survey_text = row['アンケート']\n",
    "    \n",
    "    # キーワード抽出関数を呼び出し、結果をB列に保存\n",
    "    keywords = extract_keywords(survey_text)\n",
    "    df.at[index, 'キーワード'] = keywords\n",
    "\n",
    "# データフレームを表示して確認\n",
    "print(df)"
   ]
  },
  {
   "cell_type": "code",
   "execution_count": 6,
   "id": "2c0cdbd9",
   "metadata": {},
   "outputs": [],
   "source": [
    "# 5. 結果をExcelファイルに保存\n",
    "df.to_excel(\"アンケート分析結果.xlsx\", index=False)"
   ]
  },
  {
   "cell_type": "code",
   "execution_count": 7,
   "id": "7fae5397",
   "metadata": {},
   "outputs": [
    {
     "name": "stdout",
     "output_type": "stream",
     "text": [
      "処理を開始します。\n",
      "Excelファイルに分析結果を保存しました。\n"
     ]
    }
   ],
   "source": [
    "# ワークフロー化\n",
    "print(\"処理を開始します。\")\n",
    "\n",
    "# Excelファイルを読み込む\n",
    "df = pd.read_excel('サンプルデータ.xlsx', sheet_name='アンケート')\n",
    "\n",
    "# A列の各行のアンケートに対してキーワード抽出を実行し、B列に書き込む\n",
    "df['キーワード'] = df['アンケート'].apply(extract_keywords)\n",
    "\n",
    "# 結果をExcelファイルに保存\n",
    "df.to_excel(\"アンケート分析結果.xlsx\", index=False)\n",
    "\n",
    "print(\"Excelファイルに分析結果を保存しました。\")"
   ]
  }
 ],
 "metadata": {
  "kernelspec": {
   "display_name": ".venv",
   "language": "python",
   "name": "python3"
  },
  "language_info": {
   "codemirror_mode": {
    "name": "ipython",
    "version": 3
   },
   "file_extension": ".py",
   "mimetype": "text/x-python",
   "name": "python",
   "nbconvert_exporter": "python",
   "pygments_lexer": "ipython3",
   "version": "3.12.10"
  }
 },
 "nbformat": 4,
 "nbformat_minor": 5
}
