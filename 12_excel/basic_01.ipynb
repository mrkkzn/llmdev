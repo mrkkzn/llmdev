{
 "cells": [
  {
   "cell_type": "code",
   "execution_count": 7,
   "id": "33363b05",
   "metadata": {},
   "outputs": [],
   "source": [
    "# 必要なモジュールをインポート\n",
    "import os\n",
    "from dotenv import load_dotenv\n",
    "from openai import OpenAI\n",
    "import pandas as pd\n",
    "\n",
    "# 環境変数の取得\n",
    "load_dotenv()\n",
    "\n",
    "# OpenAI APIクライアントを生成\n",
    "client = OpenAI(api_key=os.environ['API_KEY'])\n",
    "\n",
    "# モデル名\n",
    "MODEL_NAME = \"gpt-4o-mini\""
   ]
  },
  {
   "cell_type": "code",
   "execution_count": 8,
   "id": "8705d88f",
   "metadata": {},
   "outputs": [
    {
     "data": {
      "text/html": [
       "<div>\n",
       "<style scoped>\n",
       "    .dataframe tbody tr th:only-of-type {\n",
       "        vertical-align: middle;\n",
       "    }\n",
       "\n",
       "    .dataframe tbody tr th {\n",
       "        vertical-align: top;\n",
       "    }\n",
       "\n",
       "    .dataframe thead th {\n",
       "        text-align: right;\n",
       "    }\n",
       "</style>\n",
       "<table border=\"1\" class=\"dataframe\">\n",
       "  <thead>\n",
       "    <tr style=\"text-align: right;\">\n",
       "      <th></th>\n",
       "      <th>カテゴリー</th>\n",
       "      <th>商品コード</th>\n",
       "      <th>商品名</th>\n",
       "      <th>売上日</th>\n",
       "      <th>単価</th>\n",
       "      <th>数量</th>\n",
       "      <th>原価</th>\n",
       "    </tr>\n",
       "  </thead>\n",
       "  <tbody>\n",
       "    <tr>\n",
       "      <th>0</th>\n",
       "      <td>食品</td>\n",
       "      <td>1001</td>\n",
       "      <td>りんご</td>\n",
       "      <td>2023-01-01</td>\n",
       "      <td>200</td>\n",
       "      <td>50</td>\n",
       "      <td>120</td>\n",
       "    </tr>\n",
       "    <tr>\n",
       "      <th>1</th>\n",
       "      <td>食品</td>\n",
       "      <td>1002</td>\n",
       "      <td>バナナ</td>\n",
       "      <td>2023-01-01</td>\n",
       "      <td>150</td>\n",
       "      <td>100</td>\n",
       "      <td>80</td>\n",
       "    </tr>\n",
       "    <tr>\n",
       "      <th>2</th>\n",
       "      <td>食品</td>\n",
       "      <td>1003</td>\n",
       "      <td>牛乳</td>\n",
       "      <td>2023-01-02</td>\n",
       "      <td>180</td>\n",
       "      <td>80</td>\n",
       "      <td>100</td>\n",
       "    </tr>\n",
       "    <tr>\n",
       "      <th>3</th>\n",
       "      <td>衣服</td>\n",
       "      <td>2001</td>\n",
       "      <td>Tシャツ</td>\n",
       "      <td>2023-01-02</td>\n",
       "      <td>1500</td>\n",
       "      <td>20</td>\n",
       "      <td>800</td>\n",
       "    </tr>\n",
       "    <tr>\n",
       "      <th>4</th>\n",
       "      <td>衣服</td>\n",
       "      <td>2002</td>\n",
       "      <td>ジーンズ</td>\n",
       "      <td>2023-01-03</td>\n",
       "      <td>5000</td>\n",
       "      <td>10</td>\n",
       "      <td>2500</td>\n",
       "    </tr>\n",
       "  </tbody>\n",
       "</table>\n",
       "</div>"
      ],
      "text/plain": [
       "  カテゴリー  商品コード   商品名        売上日    単価   数量    原価\n",
       "0    食品   1001   りんご 2023-01-01   200   50   120\n",
       "1    食品   1002   バナナ 2023-01-01   150  100    80\n",
       "2    食品   1003    牛乳 2023-01-02   180   80   100\n",
       "3    衣服   2001  Tシャツ 2023-01-02  1500   20   800\n",
       "4    衣服   2002  ジーンズ 2023-01-03  5000   10  2500"
      ]
     },
     "execution_count": 8,
     "metadata": {},
     "output_type": "execute_result"
    }
   ],
   "source": [
    "# 1. Excelファイルを読み込む\n",
    "df = pd.read_excel('サンプルデータ.xlsx', sheet_name='売上データ')\n",
    "# データフレームを表示して確認\n",
    "df.head()"
   ]
  },
  {
   "cell_type": "code",
   "execution_count": 9,
   "id": "1a590fcf",
   "metadata": {},
   "outputs": [
    {
     "name": "stdout",
     "output_type": "stream",
     "text": [
      "売上データ:\n",
      "    カテゴリー 商品コード      商品名         売上日    単価   数量    原価\n",
      "0      食品  1001      りんご  2023-01-01   200   50   120\n",
      "1      食品  1002      バナナ  2023-01-01   150  100    80\n",
      "2      食品  1003       牛乳  2023-01-02   180   80   100\n",
      "3      衣服  2001     Tシャツ  2023-01-02  1500   20   800\n",
      "4      衣服  2002     ジーンズ  2023-01-03  5000   10  2500\n",
      "..    ...   ...      ...         ...   ...  ...   ...\n",
      "235    衣服  2077   レインパンツ  2023-04-28  2000   18  1000\n",
      "236    食品  1085      ザクロ  2023-04-29   600   40   300\n",
      "237   日用品  3077    バスブラシ  2023-04-29   400   60   200\n",
      "238    衣服  2078  レインシューズ  2023-04-30  2500   15  1250\n",
      "239    食品  1086    ココナッツ  2023-04-30   300   80   150\n",
      "\n",
      "[240 rows x 7 columns]\n",
      "この売上データの傾向を分析してください。\n"
     ]
    }
   ],
   "source": [
    "# 2. データをLLM用にテキスト形式に変換\n",
    "# データフレーム全体を文字列に変換\n",
    "sales_data_text = df.astype(str)\n",
    "prompt_text = f\"売上データ:\\n{sales_data_text}\\nこの売上データの傾向を分析してください。\"\n",
    "# 表示して確認\n",
    "print(prompt_text)"
   ]
  },
  {
   "cell_type": "code",
   "execution_count": 10,
   "id": "784e9d08",
   "metadata": {},
   "outputs": [
    {
     "name": "stdout",
     "output_type": "stream",
     "text": [
      "この売上データの傾向を分析するために、以下の観点から考察します。\n",
      "\n",
      "### 1. 商品カテゴリー別の売上分析\n",
      "- **食品**、**衣服**、**日用品**の3つのカテゴリーが含まれています。それぞれのカテゴリーの売上全体を把握することが重要です。\n",
      "- 各カテゴリーの売上（単価 × 数量）を集計し、どのカテゴリーが最も売上を上げているかを分析します。\n",
      "\n",
      "### 2. 売上の時系列分析\n",
      "- 売上日を基に、月ごとの売上の推移を確認します。\n",
      "- 特定の時期に売上が急増または減少しているかを把握することが重要です。これは季節性やプロモーションの影響を評価するために役立ちます。\n",
      "\n",
      "### 3. 商品パフォーマンス分析\n",
      "- 各商品の売上、数量、利益（売上 - 原価）を計算します。\n",
      "- 高利益商品やロングテール商品（売上が少ないが利益が高い商品）を特定します。\n",
      "\n",
      "### 4. 客単価と在庫の効率\n",
      "- 客単価（売上/購入数）を計算し、どの商品が高客単価を実現しているかを示します。\n",
      "- 原価や数量を考慮し、在庫の効率や回転率を分析します。\n",
      "\n",
      "### 5. 利益率の評価\n",
      "- 各商品の利益率を計算し、高利益率の商品を特定し、パフォーマンス改善の余地を検討します。\n",
      "\n",
      "### 6. データの可視化\n",
      "- 売上の推移を折れ線グラフで視覚化し、カテゴリーごとの売上分布を円グラフや棒グラフで表示することで、より分かりやすくすることができます。\n",
      "\n",
      "### 例: 基本的な分析\n",
      "以下は各項目に対する簡単な計算例です。\n",
      "\n",
      "- **食品**の売上合計を計算:\n",
      "  - 売上合計 = Σ(単価 × 数量)\n",
      "\n",
      "- **衣服**の売上合計を計算:\n",
      "  - 売上合計 = Σ(単価 × 数量)\n",
      "\n",
      "このような分析を行うことで、効果的なマーケティング戦略を立案し、売上の向上を図ることができます。具体的な分析結果が必要であれば、実際のデータを使用した数値計算や可視化が求められます。これらの洞察をもとに、次の施策を検討していくと良いでしょう。\n"
     ]
    }
   ],
   "source": [
    "# 3. OpenAI APIの呼び出し\n",
    "\n",
    "# 役割を設定\n",
    "role = \"あなたはマーケティング分野に精通したデータサイエンティストです。企業の成長をサポートするために、効果的なインサイトを提供します。\"\n",
    "\n",
    "# APIへリクエスト\n",
    "response = client.chat.completions.create(\n",
    "    model=MODEL_NAME,\n",
    "    messages=[\n",
    "        {\"role\": \"system\", \"content\": role},\n",
    "        {\"role\": \"user\", \"content\": prompt_text},\n",
    "    ],\n",
    ")\n",
    "\n",
    "# LLMからの回答を表示\n",
    "print(response.choices[0].message.content.strip())"
   ]
  },
  {
   "cell_type": "code",
   "execution_count": 11,
   "id": "417d415d",
   "metadata": {},
   "outputs": [
    {
     "name": "stdout",
     "output_type": "stream",
     "text": [
      "                                                   結果\n",
      "0                    この売上データの傾向を分析するために、以下の観点から考察します。\n",
      "1                                                    \n",
      "2                                ### 1. 商品カテゴリー別の売上分析\n",
      "3   - **食品**、**衣服**、**日用品**の3つのカテゴリーが含まれています。それぞれの...\n",
      "4   - 各カテゴリーの売上（単価 × 数量）を集計し、どのカテゴリーが最も売上を上げているかを分...\n",
      "5                                                    \n",
      "6                                     ### 2. 売上の時系列分析\n",
      "7                           - 売上日を基に、月ごとの売上の推移を確認します。\n",
      "8   - 特定の時期に売上が急増または減少しているかを把握することが重要です。これは季節性やプロモ...\n",
      "9                                                    \n",
      "10                                 ### 3. 商品パフォーマンス分析\n",
      "11                     - 各商品の売上、数量、利益（売上 - 原価）を計算します。\n",
      "12            - 高利益商品やロングテール商品（売上が少ないが利益が高い商品）を特定します。\n",
      "13                                                   \n",
      "14                                   ### 4. 客単価と在庫の効率\n",
      "15          - 客単価（売上/購入数）を計算し、どの商品が高客単価を実現しているかを示します。\n",
      "16                       - 原価や数量を考慮し、在庫の効率や回転率を分析します。\n",
      "17                                                   \n",
      "18                                      ### 5. 利益率の評価\n",
      "19      - 各商品の利益率を計算し、高利益率の商品を特定し、パフォーマンス改善の余地を検討します。\n",
      "20                                                   \n",
      "21                                     ### 6. データの可視化\n",
      "22  - 売上の推移を折れ線グラフで視覚化し、カテゴリーごとの売上分布を円グラフや棒グラフで表示す...\n",
      "23                                                   \n",
      "24                                      ### 例: 基本的な分析\n",
      "25                                以下は各項目に対する簡単な計算例です。\n",
      "26                                                   \n",
      "27                                  - **食品**の売上合計を計算:\n",
      "28                                - 売上合計 = Σ(単価 × 数量)\n",
      "29                                                   \n",
      "30                                  - **衣服**の売上合計を計算:\n",
      "31                                - 売上合計 = Σ(単価 × 数量)\n",
      "32                                                   \n",
      "33  このような分析を行うことで、効果的なマーケティング戦略を立案し、売上の向上を図ることができま...\n"
     ]
    }
   ],
   "source": [
    "# 4. 分析結果をデータフレームに変換\n",
    "result_list = response.choices[0].message.content.strip().split(\"\\n\")\n",
    "df_out = pd.DataFrame(result_list, columns=['結果'])\n",
    "print(df_out)"
   ]
  },
  {
   "cell_type": "code",
   "execution_count": 12,
   "id": "e65f6114",
   "metadata": {},
   "outputs": [],
   "source": [
    "# 5. 結果をExcelファイルに保存\n",
    "df_out.to_excel(\"売上データ分析結果.xlsx\", index=False)"
   ]
  },
  {
   "cell_type": "code",
   "execution_count": 13,
   "id": "a83f5e2c",
   "metadata": {},
   "outputs": [
    {
     "name": "stdout",
     "output_type": "stream",
     "text": [
      "処理を開始します。\n",
      "Excelファイルに分析結果を保存しました。\n"
     ]
    }
   ],
   "source": [
    "# ワークフロー化\n",
    "print(\"処理を開始します。\")\n",
    "\n",
    "# 1. Excelファイルを読み込む\n",
    "df = pd.read_excel('サンプルデータ.xlsx', sheet_name='売上データ')\n",
    "\n",
    "# 2. データをLLM用にテキスト形式に変換\n",
    "sales_data_text = df.astype(str)\n",
    "prompt_text = f\"売上データ:\\n{sales_data_text}\\nこの売上データの傾向を分析してください。\"\n",
    "\n",
    "# 3. OpenAI APIの呼び出し\n",
    "# 役割を設定\n",
    "role = \"あなたはマーケティング分野に精通したデータサイエンティストです。企業の成長をサポートするために、効果的なインサイトを提供します。\"\n",
    "# APIへリクエスト\n",
    "response = client.chat.completions.create(\n",
    "    model=MODEL_NAME,\n",
    "    messages=[\n",
    "        {\"role\": \"system\", \"content\": role},\n",
    "        {\"role\": \"user\", \"content\": prompt_text},\n",
    "    ],\n",
    ")\n",
    "\n",
    "# 4. 分析結果をデータフレームに変換\n",
    "result_list = response.choices[0].message.content.strip().split(\"\\n\")\n",
    "df_out = pd.DataFrame(result_list, columns=['結果'])\n",
    "\n",
    "# 5. 結果をExcelファイルに保存\n",
    "df_out.to_excel(\"売上データ分析結果.xlsx\", index=False)\n",
    "\n",
    "print(\"Excelファイルに分析結果を保存しました。\")"
   ]
  }
 ],
 "metadata": {
  "kernelspec": {
   "display_name": ".venv",
   "language": "python",
   "name": "python3"
  },
  "language_info": {
   "codemirror_mode": {
    "name": "ipython",
    "version": 3
   },
   "file_extension": ".py",
   "mimetype": "text/x-python",
   "name": "python",
   "nbconvert_exporter": "python",
   "pygments_lexer": "ipython3",
   "version": "3.12.10"
  }
 },
 "nbformat": 4,
 "nbformat_minor": 5
}
