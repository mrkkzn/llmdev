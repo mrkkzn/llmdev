{
 "cells": [
  {
   "cell_type": "code",
   "execution_count": 5,
   "id": "cb26ceb4",
   "metadata": {},
   "outputs": [
    {
     "name": "stdout",
     "output_type": "stream",
     "text": [
      "10年後の金額: 1628.89\n"
     ]
    }
   ],
   "source": [
    "principal_amount = int(input(\"元金を入力してください:\"))\n",
    "annual_interest_rate = float(input(\"年利を入力してください:\"))\n",
    "\n",
    "for i in range(1, 11):\n",
    "    principal_amount = principal_amount * (1 + (annual_interest_rate / 100))\n",
    "\n",
    "print(f\"10年後の金額: {principal_amount:.2f}\")\n"
   ]
  }
 ],
 "metadata": {
  "kernelspec": {
   "display_name": ".venv",
   "language": "python",
   "name": "python3"
  },
  "language_info": {
   "codemirror_mode": {
    "name": "ipython",
    "version": 3
   },
   "file_extension": ".py",
   "mimetype": "text/x-python",
   "name": "python",
   "nbconvert_exporter": "python",
   "pygments_lexer": "ipython3",
   "version": "3.12.10"
  }
 },
 "nbformat": 4,
 "nbformat_minor": 5
}
