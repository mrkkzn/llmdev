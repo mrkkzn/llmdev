{
 "cells": [
  {
   "cell_type": "code",
   "execution_count": 34,
   "id": "0bdd15ab",
   "metadata": {},
   "outputs": [
    {
     "name": "stdout",
     "output_type": "stream",
     "text": [
      "ユーザー名: HD\n",
      "エラー: ユーザー名は5文字以上15文字以内で入力してください\n",
      "不正なユーザー名です\n"
     ]
    }
   ],
   "source": [
    "username = input(\"ユーザー名を入力してください\")\n",
    "print(f\"ユーザー名: {username}\")\n",
    "\n",
    "def is_valid(username):\n",
    "    if len(username) < 5 or len(username) > 15 :\n",
    "        print(\"エラー: ユーザー名は5文字以上15文字以内で入力してください\")\n",
    "        return False\n",
    "\n",
    "    if \" \" in username:\n",
    "        print(\"エラー: ユーザー名に空白を含めることはできません\")\n",
    "        return False\n",
    "    \n",
    "    if not username.isalnum():\n",
    "        print(\"エラー: ユーザー名は英数字のみ使用できます\")\n",
    "        return False\n",
    "\n",
    "    return True\n",
    "\n",
    "if is_valid(username):\n",
    "    print(\"ユーザー名は有効です\")\n",
    "else:\n",
    "    print(\"不正なユーザー名です\")\n"
   ]
  }
 ],
 "metadata": {
  "kernelspec": {
   "display_name": ".venv",
   "language": "python",
   "name": "python3"
  },
  "language_info": {
   "codemirror_mode": {
    "name": "ipython",
    "version": 3
   },
   "file_extension": ".py",
   "mimetype": "text/x-python",
   "name": "python",
   "nbconvert_exporter": "python",
   "pygments_lexer": "ipython3",
   "version": "3.12.10"
  }
 },
 "nbformat": 4,
 "nbformat_minor": 5
}
