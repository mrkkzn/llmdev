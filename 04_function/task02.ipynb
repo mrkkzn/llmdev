{
 "cells": [
  {
   "cell_type": "code",
   "execution_count": 31,
   "id": "89da8e58",
   "metadata": {},
   "outputs": [],
   "source": [
    "import datetime\n",
    "import urllib.request\n",
    "\n",
    "def save_url_content(url):\n",
    "    try:\n",
    "        response = urllib.request.urlopen(url)\n",
    "        # HTMLデータを読み込み、UTF-8文字列にデコード\n",
    "        html = response.read().decode(\"utf-8\")\n",
    "\n",
    "        file_name = datetime.datetime.now().strftime(\"%Y%m%d_%H%M%S\") + \".txt\"\n",
    "        with open(file_name, \"w\") as file:\n",
    "            file.writelines(line for line in html[:500])\n",
    "\n",
    "    except Exception:\n",
    "        return \"\"\n",
    "\n",
    "    return file_name"
   ]
  },
  {
   "cell_type": "code",
   "execution_count": 32,
   "id": "f4070690",
   "metadata": {},
   "outputs": [
    {
     "name": "stdout",
     "output_type": "stream",
     "text": [
      "Content saved in: 20250905_190214.txt\n"
     ]
    }
   ],
   "source": [
    "url = input(\"URLを入力してください: \")\n",
    "file_name = save_url_content(url)\n",
    "print(f\"Content saved in: {file_name}\")"
   ]
  }
 ],
 "metadata": {
  "kernelspec": {
   "display_name": ".venv",
   "language": "python",
   "name": "python3"
  },
  "language_info": {
   "codemirror_mode": {
    "name": "ipython",
    "version": 3
   },
   "file_extension": ".py",
   "mimetype": "text/x-python",
   "name": "python",
   "nbconvert_exporter": "python",
   "pygments_lexer": "ipython3",
   "version": "3.12.10"
  }
 },
 "nbformat": 4,
 "nbformat_minor": 5
}
