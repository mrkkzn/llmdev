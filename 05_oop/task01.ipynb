{
 "cells": [
  {
   "cell_type": "code",
   "execution_count": null,
   "id": "8a2a9e25",
   "metadata": {},
   "outputs": [
    {
     "name": "stdout",
     "output_type": "stream",
     "text": [
      "1300\n",
      "エラー: 残高不足または無効な金額です\n",
      "エラー: 正しい金額を入力してください\n"
     ]
    }
   ],
   "source": [
    "class BankAccount:\n",
    "\n",
    "    def __init__(self, balance):\n",
    "        self.__balance = int(balance)\n",
    "    \n",
    "    def deposit(self, amount):\n",
    "        if int(amount) >= 0:\n",
    "            self.__balance += amount\n",
    "        else:\n",
    "            print(\"エラー: 正しい金額を入力してください\")\n",
    "\n",
    "    def withdraw(self, amount):\n",
    "            if int(amount) >= 0 and self.__balance - int(amount) >= 0:\n",
    "                self.__balance -= amount\n",
    "            else:\n",
    "                print(\"エラー: 残高不足または無効な金額です\")\n",
    "    \n",
    "    def get_balance(self):\n",
    "         return self.__balance\n",
    "\n",
    "bank_account = BankAccount(1000)\n",
    "bank_account.deposit(500)\n",
    "bank_account.withdraw(200)\n",
    "print(bank_account.get_balance())\n",
    "bank_account.withdraw(1500)\n",
    "bank_account.deposit(-500)"
   ]
  }
 ],
 "metadata": {
  "kernelspec": {
   "display_name": ".venv",
   "language": "python",
   "name": "python3"
  },
  "language_info": {
   "codemirror_mode": {
    "name": "ipython",
    "version": 3
   },
   "file_extension": ".py",
   "mimetype": "text/x-python",
   "name": "python",
   "nbconvert_exporter": "python",
   "pygments_lexer": "ipython3",
   "version": "3.12.10"
  }
 },
 "nbformat": 4,
 "nbformat_minor": 5
}
