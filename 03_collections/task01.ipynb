{
 "cells": [
  {
   "cell_type": "code",
   "execution_count": null,
   "id": "20fabd08",
   "metadata": {},
   "outputs": [
    {
     "name": "stdout",
     "output_type": "stream",
     "text": [
      "成績リスト: [85, 90, 78, 92, 88]\n",
      "平均点: 86.6\n",
      "最高点: 92\n",
      "最低点: 78\n",
      "平均以上の学生数: 3\n",
      "\n",
      "成績リスト: [70, 75, 80, 85, 90]\n",
      "平均点: 80.0\n",
      "最高点: 90\n",
      "最低点: 70\n",
      "平均以上の学生数: 3\n",
      "\n"
     ]
    }
   ],
   "source": [
    "grades = [[85, 90, 78, 92, 88], [70, 75, 80, 85, 90]]\n",
    "\n",
    "for grade in grades:\n",
    "    average = sum(grade) / len(grade)\n",
    "\n",
    "    print(f\"成績リスト: {grade}\")\n",
    "    print(f\"平均点: {average}\")\n",
    "    print(f\"最高点: {max(grade)}\")\n",
    "    print(f\"最低点: {min(grade)}\")\n",
    "    print(f\"平均以上の学生数: {len([i for i in grade if i >= average])}\")\n",
    "    print()"
   ]
  }
 ],
 "metadata": {
  "kernelspec": {
   "display_name": ".venv",
   "language": "python",
   "name": "python3"
  },
  "language_info": {
   "codemirror_mode": {
    "name": "ipython",
    "version": 3
   },
   "file_extension": ".py",
   "mimetype": "text/x-python",
   "name": "python",
   "nbconvert_exporter": "python",
   "pygments_lexer": "ipython3",
   "version": "3.12.10"
  }
 },
 "nbformat": 4,
 "nbformat_minor": 5
}
