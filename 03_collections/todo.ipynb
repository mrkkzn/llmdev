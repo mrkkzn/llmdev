{
 "cells": [
  {
   "cell_type": "code",
   "execution_count": 23,
   "id": "07dc93a2",
   "metadata": {},
   "outputs": [
    {
     "name": "stdout",
     "output_type": "stream",
     "text": [
      "1:追加\n",
      "1:追加\n",
      "2:表示\n",
      "No.1 sssfff\n",
      "No.2 sss\n",
      "No.3 fff\n",
      "No.4 dfg\n",
      "No.5 ddd\n",
      "4:保存と終了\n"
     ]
    }
   ],
   "source": [
    "file_name = \"todo_list.txt\"\n",
    "\n",
    "try:\n",
    "    with open(file_name, \"r\", encoding=\"utf-8\") as file:\n",
    "        todo_list = [line.strip() for line in file]\n",
    "except FileNotFoundError:\n",
    "    todo_list = []\n",
    "\n",
    "while True:\n",
    "    operation = input(\"番号を入力してください [1:追加、2:表示、4:保存と終了]\")\n",
    "\n",
    "    if operation == \"1\":\n",
    "        print(\"1:追加\")\n",
    "        todo_list.append(input(\"追加するTODOを入力してください\"))\n",
    "    elif operation == \"2\":\n",
    "        print(\"2:表示\")\n",
    "        num = 1\n",
    "        for i in todo_list:\n",
    "            print(f\"No.{num} {i}\")\n",
    "            num += 1\n",
    "    elif operation == \"4\":\n",
    "        print(\"4:保存と終了\")\n",
    "        with open(file_name, \"w\") as file:\n",
    "            file.writelines(line + \"\\n\" for line in todo_list)\n",
    "        break\n",
    "    else:\n",
    "        print(f\"想定外の番号が入力されたため終了します: {operation}\")\n",
    "        break    \n"
   ]
  }
 ],
 "metadata": {
  "kernelspec": {
   "display_name": ".venv",
   "language": "python",
   "name": "python3"
  },
  "language_info": {
   "codemirror_mode": {
    "name": "ipython",
    "version": 3
   },
   "file_extension": ".py",
   "mimetype": "text/x-python",
   "name": "python",
   "nbconvert_exporter": "python",
   "pygments_lexer": "ipython3",
   "version": "3.12.10"
  }
 },
 "nbformat": 4,
 "nbformat_minor": 5
}
