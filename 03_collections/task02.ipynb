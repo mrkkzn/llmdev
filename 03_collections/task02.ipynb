{
 "cells": [
  {
   "cell_type": "code",
   "execution_count": 24,
   "id": "805b4109",
   "metadata": {},
   "outputs": [
    {
     "name": "stdout",
     "output_type": "stream",
     "text": [
      "入力した英単語: ['bear', 'cat', 'dofg']\n",
      "aが2個ありました\n",
      "bが1個ありました\n",
      "cが1個ありました\n",
      "dが1個ありました\n",
      "eが1個ありました\n",
      "fが1個ありました\n",
      "gが1個ありました\n",
      "oが1個ありました\n",
      "rが1個ありました\n",
      "tが1個ありました\n"
     ]
    }
   ],
   "source": [
    "input_words = []\n",
    "s = \"abcdefghijklmnopqrstuvwxyz\"\n",
    "list_alphabet = dict.fromkeys(s, 0)\n",
    "\n",
    "while True:\n",
    "    input_word = input(\"英単語を入力してください: \")\n",
    "    if input_word == \"\" :\n",
    "        break\n",
    "    input_words.append(input_word)\n",
    "\n",
    "input_words.sort()\n",
    "print(f\"入力した英単語: {input_words}\")\n",
    "\n",
    "for word in input_words:\n",
    "    for char in word:\n",
    "        if char in list_alphabet:\n",
    "            list_alphabet[char] += 1\n",
    "\n",
    "for char in list_alphabet:\n",
    "    if list_alphabet[char] > 0:\n",
    "        print(f\"{char}が{list_alphabet[char]}個ありました\")"
   ]
  }
 ],
 "metadata": {
  "kernelspec": {
   "display_name": ".venv",
   "language": "python",
   "name": "python3"
  },
  "language_info": {
   "codemirror_mode": {
    "name": "ipython",
    "version": 3
   },
   "file_extension": ".py",
   "mimetype": "text/x-python",
   "name": "python",
   "nbconvert_exporter": "python",
   "pygments_lexer": "ipython3",
   "version": "3.12.10"
  }
 },
 "nbformat": 4,
 "nbformat_minor": 5
}
